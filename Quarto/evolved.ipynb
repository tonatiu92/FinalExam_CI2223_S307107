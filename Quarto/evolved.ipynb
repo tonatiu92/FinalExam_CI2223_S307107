{
 "cells": [
  {
   "attachments": {},
   "cell_type": "markdown",
   "metadata": {},
   "source": [
    "# Evolving Rules\n",
    "Here the main goal is to optimize the params of the rules defined in ruleBased.py.\n",
    "As we know, in quarto we have two type of actions: **choosing** and **placing**. As already studied in the ruleBased.py for both action we have two kind of strategy:\n",
    "- **Choosing**:\n",
    "    1. According the board status\n",
    "    2. According the bag status\n",
    "- **Placing**:\n",
    "    1. Attack\n",
    "    2. Defense\n",
    "We already have very good results against the random player without elvoving the rules (more than 98% of victory). There training against another opponent will be more efficient"
   ]
  },
  {
   "attachments": {},
   "cell_type": "markdown",
   "metadata": {},
   "source": [
    "## Libraries"
   ]
  },
  {
   "cell_type": "code",
   "execution_count": 37,
   "metadata": {},
   "outputs": [],
   "source": [
    "import random\n",
    "from  collections import namedtuple\n",
    "import main\n",
    "import ruleBased"
   ]
  },
  {
   "attachments": {},
   "cell_type": "markdown",
   "metadata": {},
   "source": [
    "## Individuals\n",
    "It will be an array with 2 parameters [a,b]"
   ]
  },
  {
   "cell_type": "code",
   "execution_count": 38,
   "metadata": {},
   "outputs": [],
   "source": [
    "Individual = namedtuple(\"Individual\", [\"genome\", \"fitness\"])"
   ]
  },
  {
   "attachments": {},
   "cell_type": "markdown",
   "metadata": {},
   "source": [
    "## Fitness\n",
    "The fitness will bethe average score during the evolution."
   ]
  },
  {
   "cell_type": "code",
   "execution_count": 39,
   "metadata": {},
   "outputs": [],
   "source": [
    "NUM_MATCHES = 1000\n",
    "def fitness(genome: list):\n",
    "    winners = []\n",
    "    for i in range(NUM_MATCHES):\n",
    "        game = main.quarto.Quarto()\n",
    "        if i % 2 == 0:\n",
    "            Player1 = ruleBased.RuleBased(game,0,0)\n",
    "        else:\n",
    "            Player1 = main.RandomPlayer(game)\n",
    "        if random.random() > 0.5:\n",
    "            game.set_players((Player1,ruleBased.RuleBased(game,genome[0],genome[1])))\n",
    "        else:\n",
    "            game.set_players((ruleBased.RuleBased(game,genome[0],genome[1]),Player1))\n",
    "        winner = game.run()\n",
    "        winners.append(winner)\n",
    "    return winners.count(1)/NUM_MATCHES"
   ]
  },
  {
   "attachments": {},
   "cell_type": "markdown",
   "metadata": {},
   "source": [
    "## Cross-Over\n",
    "We will permute the params1 and params2"
   ]
  },
  {
   "cell_type": "code",
   "execution_count": 40,
   "metadata": {},
   "outputs": [],
   "source": [
    "def cross_over(g1: list, g2:list) -> list:\n",
    "    g3 = [g1[0],g2[1]]\n",
    "    g4 = [g1[1],g2[0]]\n",
    "    return random.choice([g3,g4])"
   ]
  },
  {
   "attachments": {},
   "cell_type": "markdown",
   "metadata": {},
   "source": [
    "## Mutation\n",
    "we will mutate one params"
   ]
  },
  {
   "cell_type": "code",
   "execution_count": 41,
   "metadata": {},
   "outputs": [],
   "source": [
    "def mutation(g:list):\n",
    "    params = random.randint(0, 1)\n",
    "    g[params] = random.random()\n",
    "    return g\n",
    "    "
   ]
  },
  {
   "attachments": {},
   "cell_type": "markdown",
   "metadata": {},
   "source": [
    "## Tournament"
   ]
  },
  {
   "cell_type": "code",
   "execution_count": 42,
   "metadata": {},
   "outputs": [],
   "source": [
    "def tournament(population: list, tournament_size=2):\n",
    "    \"\"\"Tournament function\"\"\"\n",
    "    return max(random.choices(population, k=tournament_size), key=lambda i: i.fitness)"
   ]
  },
  {
   "attachments": {},
   "cell_type": "markdown",
   "metadata": {},
   "source": [
    "## Evolution"
   ]
  },
  {
   "attachments": {},
   "cell_type": "markdown",
   "metadata": {},
   "source": [
    "### Initial Population"
   ]
  },
  {
   "cell_type": "code",
   "execution_count": 43,
   "metadata": {},
   "outputs": [],
   "source": [
    "def create_rand_pop(quantity:int) -> list:\n",
    "    population = []\n",
    "    for i in range(quantity):\n",
    "        a = random.random()\n",
    "        b = random.random()\n",
    "        genome = [a,b]\n",
    "        fitness_value = fitness(genome)\n",
    "        population.append(Individual(genome, fitness_value))\n",
    "        print(f\"{i+1}/{quantity} of the population created\")\n",
    "    return population"
   ]
  },
  {
   "attachments": {},
   "cell_type": "markdown",
   "metadata": {},
   "source": [
    "### Evolution"
   ]
  },
  {
   "cell_type": "code",
   "execution_count": 44,
   "metadata": {},
   "outputs": [],
   "source": [
    "def evolution(population: list,POPULATION_SIZE: int, NUM_GENERATIONS:int, OFFSPRING_SIZE:int):\n",
    "    for g in range(NUM_GENERATIONS):\n",
    "        print(g)\n",
    "        offspring = list()\n",
    "        for i in range(OFFSPRING_SIZE):\n",
    "            if random.random() < 0.3:\n",
    "                p = tournament(population)\n",
    "                o = mutation(p.genome.copy())\n",
    "            else:\n",
    "                p1 = tournament(population)\n",
    "                p2 = tournament(population)\n",
    "                o = cross_over(p1.genome.copy(),p2.genome.copy())\n",
    "            f = fitness(o)\n",
    "            offspring.append(Individual(o, f))\n",
    "        population+=offspring\n",
    "        population = sorted(population, key=lambda indi: indi.fitness,reverse=True)[:POPULATION_SIZE]\n",
    "    return population[0]"
   ]
  },
  {
   "attachments": {},
   "cell_type": "markdown",
   "metadata": {},
   "source": [
    "### Algorithm"
   ]
  },
  {
   "cell_type": "code",
   "execution_count": 45,
   "metadata": {},
   "outputs": [
    {
     "name": "stdout",
     "output_type": "stream",
     "text": [
      "1/20 of the population created\n",
      "2/20 of the population created\n",
      "3/20 of the population created\n",
      "4/20 of the population created\n",
      "5/20 of the population created\n",
      "6/20 of the population created\n",
      "7/20 of the population created\n",
      "8/20 of the population created\n",
      "9/20 of the population created\n",
      "10/20 of the population created\n",
      "11/20 of the population created\n",
      "12/20 of the population created\n",
      "13/20 of the population created\n",
      "14/20 of the population created\n",
      "15/20 of the population created\n",
      "16/20 of the population created\n",
      "17/20 of the population created\n",
      "18/20 of the population created\n",
      "19/20 of the population created\n",
      "20/20 of the population created\n",
      "-------------------Population created---------------------\n",
      "0\n",
      "1\n",
      "2\n",
      "3\n",
      "4\n",
      "5\n",
      "6\n",
      "7\n",
      "8\n",
      "9\n",
      "10\n",
      "11\n",
      "12\n",
      "13\n",
      "14\n",
      "15\n",
      "16\n",
      "17\n",
      "18\n",
      "19\n",
      "20\n",
      "21\n",
      "22\n",
      "23\n",
      "24\n",
      "25\n",
      "26\n",
      "27\n",
      "28\n",
      "29\n",
      "30\n",
      "31\n",
      "32\n",
      "33\n",
      "34\n",
      "35\n",
      "36\n",
      "37\n",
      "38\n",
      "39\n",
      "40\n",
      "41\n",
      "42\n",
      "43\n",
      "44\n",
      "45\n",
      "46\n",
      "47\n",
      "48\n",
      "49\n"
     ]
    },
    {
     "data": {
      "text/plain": [
       "Individual(genome=[0.12077208930524375, 0.015851978614352946], fitness=0.452)"
      ]
     },
     "execution_count": 45,
     "metadata": {},
     "output_type": "execute_result"
    }
   ],
   "source": [
    "POPULATION_SIZE = 20\n",
    "OFFSPRING_SIZE = 3\n",
    "NUM_GENERATIONS = 50\n",
    "### Initialisation of the problem\n",
    "population = create_rand_pop(POPULATION_SIZE)\n",
    "print(\"-------------------Population created---------------------\")\n",
    "evolution(population,POPULATION_SIZE,NUM_GENERATIONS,OFFSPRING_SIZE)"
   ]
  }
 ],
 "metadata": {
  "kernelspec": {
   "display_name": "Python 3",
   "language": "python",
   "name": "python3"
  },
  "language_info": {
   "codemirror_mode": {
    "name": "ipython",
    "version": 3
   },
   "file_extension": ".py",
   "mimetype": "text/x-python",
   "name": "python",
   "nbconvert_exporter": "python",
   "pygments_lexer": "ipython3",
   "version": "3.10.8"
  },
  "orig_nbformat": 4,
  "vscode": {
   "interpreter": {
    "hash": "369f2c481f4da34e4445cda3fffd2e751bd1c4d706f27375911949ba6bb62e1c"
   }
  }
 },
 "nbformat": 4,
 "nbformat_minor": 2
}
